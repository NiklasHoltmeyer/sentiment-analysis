{
  "nbformat": 4,
  "nbformat_minor": 0,
  "metadata": {
    "accelerator": "GPU",
    "colab": {
      "name": "Sentiment.ipynb",
      "provenance": [],
      "collapsed_sections": []
    },
    "kernelspec": {
      "display_name": "Python 3",
      "name": "python3"
    }
  },
  "cells": [     
    {
      "cell_type": "markdown",
      "metadata": {
        "id": "6EMaC6Q_xxrE"
      },
      "source": [
        "# Deep Learning for Sentiment Analysis\r\n",
        "[![ForTheBadge built-with-love](http://ForTheBadge.com/images/badges/built-with-love.svg)](https://github.com/NiklasHoltmeyer/sentiment-analysis) [![Made withJupyter](https://img.shields.io/badge/Made%20with-Jupyter-orange?style=for-the-badge&logo=Jupyter)](https://jupyter.org/try)\r\n",
        " [![License: MIT](https://img.shields.io/badge/License-MIT-yellow.svg)](https://opensource.org/licenses/MIT)\r\n",
        " [![Github](https://img.shields.io/badge/Git-Hub-green.svg)](https://github.com/NiklasHoltmeyer/sentiment-analysis)",
        "<a href=\"https://colab.research.google.com/github/NiklasHoltmeyer/sentiment-analysis/blob/main/example/Deep%20Learning%20for%20Sentiment%20Analysis%20-%20example.ipynb\" target=\"_parent\"><img src=\"https://colab.research.google.com/assets/colab-badge.svg\" alt=\"Open In Colab\"/></a>"
      ]
    },
    {
      "cell_type": "code",
      "metadata": {
        "id": "CgYPthTp4r4w"
      },
      "source": [
        "! cd /content/\n",
        "! rm -rf /content/scripts /content/training\n",
        "! git clone https://github.com/NiklasHoltmeyer/sentiment-analysis\n",
        "! mv sentiment-analysis/* $PWD\n",
        "! rm -r sentiment-analysis/"
      ],
      "execution_count": null,
      "outputs": []
    },
    {
      "cell_type": "markdown",
      "metadata": {
        "id": "aptuE0Afx27y"
      },
      "source": [
        "## Installation\r\n",
        "The following script contains the (Python) requirements and training data.\r\n",
        "\r\n",
        "\r\n",
        "```bash\r\n",
        "bash /content/scripts/0_install_prerequisites.sh\r\n",
        "```"
      ]
    },
    {
      "cell_type": "code",
      "metadata": {
        "id": "I9SjCFkgJoQ0"
      },
      "source": [
        "%cd  /content/training/\r\n",
        "!bash /content/scripts/0_install_prerequisites.sh\r\n"
      ],
      "execution_count": null,
      "outputs": []
    },
    {
      "cell_type": "markdown",
      "metadata": {
        "id": "j546seB5yEh8"
      },
      "source": [
        "### Mount Gdrive in case you want to later export the results."
      ]
    },
    {
      "cell_type": "code",
      "metadata": {
        "id": "pFdBXmKJ1dZM"
      },
      "source": [
        "#from google.colab import drive\n",
        "#drive.mount('/gdrive/')"
      ],
      "execution_count": null,
      "outputs": []
    },
    {
      "cell_type": "markdown",
      "metadata": {
        "id": "nrpJgeFXyUmk"
      },
      "source": [
        "### Showing possible models to train for Sentiment Analysis"
      ]
    },
    {
      "cell_type": "code",
      "metadata": {
        "id": "tu0PZ1pmyeFL"
      },
      "source": [
        "!python /content/training/train.py --help"
      ],
      "execution_count": null,
      "outputs": []
    },
    {
      "cell_type": "markdown",
      "metadata": {
        "id": "DtaVCWY5zurA"
      },
      "source": [
        "### Train Example"
      ]
    },
    {
      "cell_type": "code",
      "metadata": {
        "id": "974DxhSXzncm"
      },
      "source": [
        "import consts as CONSTS # GLOBAL, PATHS, GLOVE, TRAINING, PREPROCESSING\r\n",
        "from TensorflowHelper import Callbacks, Encoder, Logging\r\n",
        "from TensorflowModels import TensorflowModels\r\n",
        "import logging\r\n",
        "\r\n",
        "logging.basicConfig(\r\n",
        "    level=logging.DEBUG, \r\n",
        "    format= '[%(asctime)s] {%(filename)s:%(lineno)d} %(levelname)s - %(message)s', #%(asctime)s - %(levelname)s: %(message)s\r\n",
        ")\r\n",
        "\r\n",
        "logger = logging.getLogger(\"sentiment\")\r\n",
        "logging.getLogger(\"matplotlib\").setLevel(logging.WARNING)\r\n",
        "logging.getLogger(\"nltk_data\").setLevel(logging.WARNING)\r\n",
        "\r\n",
        "model, history = TensorflowModels().trainModel(CNN_LAYER = True,  #self-trained word2vec embedding layer\r\n",
        "            POOLING_LAYER = True, \r\n",
        "            BiLSTM_Layer = True, \r\n",
        "            logger = logger)"
      ],
      "execution_count": null,
      "outputs": []
    },
    {
      "cell_type": "markdown",
      "metadata": {
        "id": "wfs_RW6lTY0D"
      },
      "source": [
        "## Prediction"
      ]
    },
    {
      "cell_type": "code",
      "metadata": {
        "id": "i_LBShKuTbHF"
      },
      "source": [
        "from clean_text import CleanText\r\n",
        "sample_text = ('The movie was not good. The animation and the graphics '\r\n",
        "                    'were terrible. I would not recommend this movie.')\r\n",
        "sample_text_cleaned = CleanText().cleanText(sample_text)\r\n",
        "model.predict([sample_text])"
      ],
      "execution_count": null,
      "outputs": []
    }
  ]
}
