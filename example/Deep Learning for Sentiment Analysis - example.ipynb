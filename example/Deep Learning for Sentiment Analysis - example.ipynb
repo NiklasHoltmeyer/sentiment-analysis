{
  "nbformat": 4,
  "nbformat_minor": 0,
  "metadata": {
    "colab": {
      "name": "Deep Learning for Sentiment Analysis - example.ipynb",
      "provenance": [],
      "collapsed_sections": [],
      "toc_visible": true
    },
    "kernelspec": {
      "display_name": "Python 3",
      "language": "python",
      "name": "python3"
    },
    "language_info": {
      "codemirror_mode": {
        "name": "ipython",
        "version": 3
      },
      "file_extension": ".py",
      "mimetype": "text/x-python",
      "name": "python",
      "nbconvert_exporter": "python",
      "pygments_lexer": "ipython3",
      "version": "3.8.5"
    },
    "accelerator": "GPU"
  },
  "cells": [
    {
      "cell_type": "markdown",
      "metadata": {
        "id": "6EMaC6Q_xxrE"
      },
      "source": [
        "# Deep Learning for Sentiment Analysis\n",
        "[![ForTheBadge built-with-love](http://ForTheBadge.com/images/badges/built-with-love.svg)](https://github.com/NiklasHoltmeyer/sentiment-analysis) [![Made withJupyter](https://img.shields.io/badge/Made%20with-Jupyter-orange?style=for-the-badge&logo=Jupyter)](https://jupyter.org/try)\n",
        " [![License: MIT](https://img.shields.io/badge/License-MIT-yellow.svg)](https://opensource.org/licenses/MIT)\n",
        " [![Github](https://img.shields.io/badge/Git-Hub-green.svg)](https://github.com/NiklasHoltmeyer/sentiment-analysis)<a href=\"https://colab.research.google.com/github/NiklasHoltmeyer/sentiment-analysis/blob/main/example/Deep%20Learning%20for%20Sentiment%20Analysis%20-%20example.ipynb\" target=\"_parent\"><img src=\"https://colab.research.google.com/assets/colab-badge.svg\" alt=\"Open In Colab\"/></a>"
      ]
    },
    {
      "cell_type": "code",
      "metadata": {
        "id": "CgYPthTp4r4w"
      },
      "source": [
        "! cd /content/\n",
        "! rm -rf /content/scripts /content/training\n",
        "! git clone https://github.com/NiklasHoltmeyer/sentiment-analysis\n",
        "! mv sentiment-analysis/* $PWD\n",
        "! rm -r sentiment-analysis/\n",
        "%mkdir -p /content/training/\n",
        "%cd /content/training/"
      ],
      "execution_count": null,
      "outputs": []
    },
    {
      "cell_type": "markdown",
      "metadata": {
        "id": "aptuE0Afx27y"
      },
      "source": [
        "## Installation\n",
        "The following script contains the (Python) requirements and training data.\n",
        "\n",
        "\n",
        "```bash\n",
        "bash /content/scripts/install_prerequisites.sh\n",
        "```"
      ]
    },
    {
      "cell_type": "code",
      "metadata": {
        "id": "VUufmMLicHME"
      },
      "source": [
        "!sh /content/scripts/install_small.sh #install_prerequisites.sh Containts Dependencies for Everything, Small Excludes GloVe\r\n",
        "%cd /content/DeepSentiment/\r\n",
        "%cat requirements.txt | xargs -n 1 pip install #pip install -r file.txt might fail\r\n",
        "%pip install --force-reinstall contractions emoji\r\n",
        "%pip install --force -e .\r\n",
        "%cd /content/DeepSentiment/\r\n",
        "import DeepSentiment\r\n",
        "%cd /content/training/"
      ],
      "execution_count": null,
      "outputs": []
    },
    {
      "cell_type": "code",
      "metadata": {
        "id": "cyOHXWSqjoyg"
      },
      "source": [
        "%pip install --force-reinstall contractions emoji"
      ],
      "execution_count": null,
      "outputs": []
    },
    {
      "cell_type": "markdown",
      "metadata": {
        "id": "j546seB5yEh8"
      },
      "source": [
        "### Mount Gdrive in case you want to later export the results."
      ]
    },
    {
      "cell_type": "code",
      "metadata": {
        "id": "pFdBXmKJ1dZM"
      },
      "source": [
        "#from google.colab import drive\n",
        "#drive.mount('/gdrive/')"
      ],
      "execution_count": null,
      "outputs": []
    },
    {
      "cell_type": "markdown",
      "metadata": {
        "id": "nrpJgeFXyUmk"
      },
      "source": [
        "### Showing possible models to train for Sentiment Analysis"
      ]
    },
    {
      "cell_type": "code",
      "metadata": {
        "id": "tu0PZ1pmyeFL"
      },
      "source": [
        "#!python /content/training/train.py --help"
      ],
      "execution_count": null,
      "outputs": []
    },
    {
      "cell_type": "markdown",
      "metadata": {
        "id": "DtaVCWY5zurA"
      },
      "source": [
        "### Train Example"
      ]
    },
    {
      "cell_type": "code",
      "metadata": {
        "id": "974DxhSXzncm"
      },
      "source": [
        "from DeepSentiment.Networks.Tensorflow.Model import Model as TFModel\n",
        "import logging\n",
        "\n",
        "logging.basicConfig(\n",
        "    level=logging.DEBUG, \n",
        "    format= '[%(asctime)s] {%(filename)s:%(lineno)d} %(levelname)s - %(message)s', #%(asctime)s - %(levelname)s: %(message)s\n",
        ")\n",
        "\n",
        "logger = logging.getLogger(\"sentiment\")\n",
        "logging.getLogger(\"matplotlib\").setLevel(logging.WARNING)\n",
        "logging.getLogger(\"nltk_data\").setLevel(logging.WARNING)\n",
        "\n",
        "model, history = TFModel().trainModel(CNN_LAYER = True,  #self-trained word2vec embedding layer\n",
        "            POOLING_LAYER = True, \n",
        "            BiLSTM_Layer = True, \n",
        "            logger = logger)\n",
        "            \n",
        "#model, history = TFModel().trainModel(GLOVE = True, \n",
        "#            CNN_LAYER = True \n",
        "#            POOLING_LAYER = True \n",
        "#            GRU_LAYER = True \n",
        "#            BiLSTM_Layer = True \n",
        "#            LSTM_Layer = True \n",
        "#            DENSE_LAYER = True,\n",
        "#            logger = logger)"
      ],
      "execution_count": null,
      "outputs": []
    },
    {
      "cell_type": "markdown",
      "metadata": {
        "id": "wfs_RW6lTY0D"
      },
      "source": [
        "## Prediction"
      ]
    },
    {
      "cell_type": "code",
      "metadata": {
        "id": "i_LBShKuTbHF"
      },
      "source": [
        "from DeepSentiment.Preprocessing.CleanText import CleanText\n",
        "\n",
        "sample_text = ('The movie was not good. The animation and the graphics '\n",
        "                    'were terrible. I would not recommend this movie.')\n",
        "sample_text_cleaned = CleanText().cleanText(sample_text)\n",
        "model.predict([sample_text])"
      ],
      "execution_count": null,
      "outputs": []
    }
  ]
}