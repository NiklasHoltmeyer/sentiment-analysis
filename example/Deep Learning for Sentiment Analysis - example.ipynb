{
 "cells": [
  {
   "cell_type": "markdown",
   "metadata": {
    "id": "6EMaC6Q_xxrE"
   },
   "source": [
    "# Deep Learning for Sentiment Analysis\n",
    "[![ForTheBadge built-with-love](http://ForTheBadge.com/images/badges/built-with-love.svg)](https://github.com/NiklasHoltmeyer/sentiment-analysis) [![Made withJupyter](https://img.shields.io/badge/Made%20with-Jupyter-orange?style=for-the-badge&logo=Jupyter)](https://jupyter.org/try)\n",
    " [![License: MIT](https://img.shields.io/badge/License-MIT-yellow.svg)](https://opensource.org/licenses/MIT)\n",
    " [![Github](https://img.shields.io/badge/Git-Hub-green.svg)](https://github.com/NiklasHoltmeyer/sentiment-analysis)<a href=\"https://colab.research.google.com/github/NiklasHoltmeyer/sentiment-analysis/blob/main/example/Deep%20Learning%20for%20Sentiment%20Analysis%20-%20example.ipynb\" target=\"_parent\"><img src=\"https://colab.research.google.com/assets/colab-badge.svg\" alt=\"Open In Colab\"/></a>"
   ]
  },
  {
   "cell_type": "code",
   "execution_count": null,
   "metadata": {
    "id": "CgYPthTp4r4w"
   },
   "outputs": [],
   "source": [
    "! cd /content/\n",
    "! rm -rf /content/scripts /content/training\n",
    "! git clone https://github.com/NiklasHoltmeyer/sentiment-analysis\n",
    "! mv sentiment-analysis/* $PWD\n",
    "! rm -r sentiment-analysis/"
   ]
  },
  {
   "cell_type": "markdown",
   "metadata": {
    "id": "aptuE0Afx27y"
   },
   "source": [
    "## Installation\n",
    "The following script contains the (Python) requirements and training data.\n",
    "\n",
    "\n",
    "```bash\n",
    "bash /content/scripts/0_install_prerequisites_no_glove.sh\n",
    "```"
   ]
  },
  {
   "cell_type": "code",
   "execution_count": null,
   "metadata": {
    "id": "I9SjCFkgJoQ0"
   },
   "outputs": [],
   "source": [
    "%cd  /content/training/\n",
    "!bash /content/scripts/0_install_prerequisites.sh\n"
   ]
  },
  {
   "cell_type": "markdown",
   "metadata": {
    "id": "j546seB5yEh8"
   },
   "source": [
    "### Mount Gdrive in case you want to later export the results."
   ]
  },
  {
   "cell_type": "code",
   "execution_count": null,
   "metadata": {
    "id": "pFdBXmKJ1dZM"
   },
   "outputs": [],
   "source": [
    "#from google.colab import drive\n",
    "#drive.mount('/gdrive/')"
   ]
  },
  {
   "cell_type": "markdown",
   "metadata": {
    "id": "nrpJgeFXyUmk"
   },
   "source": [
    "### Showing possible models to train for Sentiment Analysis"
   ]
  },
  {
   "cell_type": "code",
   "execution_count": null,
   "metadata": {
    "id": "tu0PZ1pmyeFL"
   },
   "outputs": [],
   "source": [
    "!python /content/training/train.py --help"
   ]
  },
  {
   "cell_type": "markdown",
   "metadata": {
    "id": "DtaVCWY5zurA"
   },
   "source": [
    "### Train Example"
   ]
  },
  {
   "cell_type": "code",
   "execution_count": null,
   "metadata": {
    "id": "974DxhSXzncm"
   },
   "outputs": [],
   "source": [
    "from DeepSentiment.Networks.Tensorflow.Model import Model as TFModel\n",
    "import logging\n",
    "\n",
    "logging.basicConfig(\n",
    "    level=logging.DEBUG, \n",
    "    format= '[%(asctime)s] {%(filename)s:%(lineno)d} %(levelname)s - %(message)s', #%(asctime)s - %(levelname)s: %(message)s\n",
    ")\n",
    "\n",
    "logger = logging.getLogger(\"sentiment\")\n",
    "logging.getLogger(\"matplotlib\").setLevel(logging.WARNING)\n",
    "logging.getLogger(\"nltk_data\").setLevel(logging.WARNING)\n",
    "\n",
    "model, history = TFModel().trainModel(CNN_LAYER = True,  #self-trained word2vec embedding layer\n",
    "            POOLING_LAYER = True, \n",
    "            BiLSTM_Layer = True, \n",
    "            logger = logger)\n",
    "            \n",
    "#model, history = TFModel().trainModel(GLOVE = True, \n",
    "#            CNN_LAYER = True \n",
    "#            POOLING_LAYER = True \n",
    "#            GRU_LAYER = True \n",
    "#            BiLSTM_Layer = True \n",
    "#            LSTM_Layer = True \n",
    "#            DENSE_LAYER = True,\n",
    "#            logger = logger)"
   ]
  },
  {
   "cell_type": "markdown",
   "metadata": {
    "id": "wfs_RW6lTY0D"
   },
   "source": [
    "## Prediction"
   ]
  },
  {
   "cell_type": "code",
   "execution_count": null,
   "metadata": {
    "id": "i_LBShKuTbHF"
   },
   "outputs": [],
   "source": [
    "from DeepSentiment.Preprocessing.CleanText import CleanText\n",
    "\n",
    "sample_text = ('The movie was not good. The animation and the graphics '\n",
    "                    'were terrible. I would not recommend this movie.')\n",
    "sample_text_cleaned = CleanText().cleanText(sample_text)\n",
    "model.predict([sample_text])"
   ]
  }
 ],
 "metadata": {
  "accelerator": "GPU",
  "colab": {
   "collapsed_sections": [],
   "name": "Sentiment.ipynb",
   "provenance": []
  },
  "kernelspec": {
   "display_name": "Python 3",
   "language": "python",
   "name": "python3"
  },
  "language_info": {
   "codemirror_mode": {
    "name": "ipython",
    "version": 3
   },
   "file_extension": ".py",
   "mimetype": "text/x-python",
   "name": "python",
   "nbconvert_exporter": "python",
   "pygments_lexer": "ipython3",
   "version": "3.8.5"
  }
 },
 "nbformat": 4,
 "nbformat_minor": 1
}
