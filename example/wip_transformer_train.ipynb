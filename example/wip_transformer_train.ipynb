{
  "nbformat": 4,
  "nbformat_minor": 0,
  "metadata": {
    "colab": {
      "name": "wip_transformer_train.ipynb",
      "provenance": [],
      "collapsed_sections": []
    },
    "kernelspec": {
      "display_name": "Python 3",
      "language": "python",
      "name": "python3"
    },
    "language_info": {
      "codemirror_mode": {
        "name": "ipython",
        "version": 3
      },
      "file_extension": ".py",
      "mimetype": "text/x-python",
      "name": "python",
      "nbconvert_exporter": "python",
      "pygments_lexer": "ipython3",
      "version": "3.8.5"
    },
    "accelerator": "GPU"
  },
  "cells": [
    {
      "cell_type": "code",
      "metadata": {
        "id": "MsQTIlvAZtL1"
      },
      "source": [
        "from google.colab import drive\r\n",
        "drive.mount('/gdrive/')"
      ],
      "execution_count": null,
      "outputs": []
    },
    {
      "cell_type": "code",
      "metadata": {
        "id": "J8X9nMk0nGLB"
      },
      "source": [
        "!pip uninstall -y DeepSentiment > /dev/null"
      ],
      "execution_count": null,
      "outputs": []
    },
    {
      "cell_type": "code",
      "metadata": {
        "id": "rrsvxCysm0bV"
      },
      "source": [
        "!rm -rf /content/outputs /content/results/ /content/runs /content/sample_data > /dev/null"
      ],
      "execution_count": null,
      "outputs": []
    },
    {
      "cell_type": "code",
      "metadata": {
        "id": "iHasVo5oZ9Cb"
      },
      "source": [
        "!mkdir -p /data/glove/  #Create folder to skip download\r\n",
        "!pip install --upgrade tqdm > /dev/null\r\n",
        "!pip install --upgrade git+https://github.com/NiklasHoltmeyer/sentiment-analysis.git > /dev/null"
      ],
      "execution_count": null,
      "outputs": []
    },
    {
      "cell_type": "code",
      "metadata": {
        "id": "5yo8jNWudfzO"
      },
      "source": [
        "!pip install --upgrade tqdm > /dev/null"
      ],
      "execution_count": null,
      "outputs": []
    },
    {
      "cell_type": "code",
      "metadata": {
        "id": "7DTpib8xgKZs"
      },
      "source": [
        "model_type, model_name = \"distilbert\", \"distilbert-base-uncased\" # # see https://huggingface.co/transformers/pretrained_models.html, https://simpletransformers.ai/docs/classification-specifics/\r\n",
        "\r\n",
        "entries, lr = 1_000_000, 1.0e-4 #  Entries = Trainings-Size (None = all ~1,28 Mil)\r\n",
        "lazy_loading = entries is None or entries > 800_000 \r\n",
        "args = {\"lazy_loading\" : lazy_loading, \"number_of_training_data_entries\" : entries, \"learning_rate\" : lr, \"truncation\":True}"
      ],
      "execution_count": null,
      "outputs": []
    },
    {
      "cell_type": "markdown",
      "metadata": {
        "id": "tAA-1nSAnens"
      },
      "source": [
        "## Note\r\n",
        "If the next line returns an `tqdm error` run \r\n",
        "```bash \r\n",
        "!pip install --upgrade tqdm > /dev/null\r\n",
        "```\r\n",
        "and rerun the following cell\r\n",
        "\r\n",
        "If the next line returns a `Dict-Changed Error`, retrun the line"
      ]
    },
    {
      "cell_type": "code",
      "metadata": {
        "id": "Jv8HLub7gM8F"
      },
      "source": [
        "from DeepSentiment.Networks.Transformer.Model import Model as STModel \r\n",
        "\r\n",
        "stModel = STModel(model_type, model_name)\r\n",
        "stModel.train(args)"
      ],
      "execution_count": null,
      "outputs": []
    },
    {
      "cell_type": "code",
      "metadata": {
        "id": "OCD0LvyFbYBm"
      },
      "source": [
        "folderf = f\"/content/results/transformer_{model_name}_{entries}_{lr}\"\r\n",
        "stModel.save(folder=folderf)"
      ],
      "execution_count": null,
      "outputs": []
    },
    {
      "cell_type": "code",
      "metadata": {
        "id": "piNKXmdMNCSe"
      },
      "source": [
        "import glob\r\n",
        "import shutil\r\n",
        "\r\n",
        "txtFiles = glob.glob(\"/content/outputs/*/*.txt\")\r\n",
        "csvFiles = glob.glob(\"/content/outputs/*/*.csv\")\r\n",
        "for file in txtFiles+csvFiles:\r\n",
        "  try:\r\n",
        "    shutil.move(file, folderf)\r\n",
        "  except:\r\n",
        "    pass"
      ],
      "execution_count": null,
      "outputs": []
    },
    {
      "cell_type": "code",
      "metadata": {
        "id": "NccOTQUNa745"
      },
      "source": [
        "!ls /content/results/"
      ],
      "execution_count": null,
      "outputs": []
    },
    {
      "cell_type": "code",
      "metadata": {
        "id": "K6tr58g_oQys"
      },
      "source": [
        "!cp -r /content/results/ /gdrive/MyDrive/transformer/"
      ],
      "execution_count": null,
      "outputs": []
    }
  ]
}