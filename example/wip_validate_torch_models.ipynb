{
 "cells": [
  {
   "cell_type": "code",
   "execution_count": null,
   "metadata": {
    "colab": {
     "base_uri": "https://localhost:8080/"
    },
    "id": "ecM9gp3366mN",
    "outputId": "714d1a45-b535-44b3-914c-9e01dcd3c9f6"
   },
   "outputs": [],
   "source": [
    "from google.colab import drive\n",
    "drive.mount('/gdrive/')"
   ]
  },
  {
   "cell_type": "code",
   "execution_count": null,
   "metadata": {
    "id": "zju6dvfyaGHG"
   },
   "outputs": [],
   "source": [
    "!rm -rf /content/outputs /content/results /content/sample_data"
   ]
  },
  {
   "cell_type": "code",
   "execution_count": null,
   "metadata": {
    "colab": {
     "base_uri": "https://localhost:8080/"
    },
    "id": "Oedjoo5vxm6B",
    "outputId": "a73e9066-82e2-462f-f23f-7ca66f7bdb2a"
   },
   "outputs": [],
   "source": [
    "!pip uninstall DeepSentiment > /dev/null"
   ]
  },
  {
   "cell_type": "code",
   "execution_count": null,
   "metadata": {
    "colab": {
     "base_uri": "https://localhost:8080/"
    },
    "id": "TDr3qFpU7Pis",
    "outputId": "9fe600ac-0e09-419e-c6fa-64a5d0a5ee98"
   },
   "outputs": [],
   "source": [
    "!mkdir -p /data/glove/  #Create folder to skip download\n",
    "!pip install --upgrade tqdm > /dev/null\n",
    "!pip install --upgrade git+https://github.com/NiklasHoltmeyer/sentiment-analysis.git > /dev/null"
   ]
  },
  {
   "cell_type": "code",
   "execution_count": null,
   "metadata": {
    "id": "56wsZiJ87prL"
   },
   "outputs": [],
   "source": [
    "!pip install --upgrade tqdm > /dev/null"
   ]
  },
  {
   "cell_type": "code",
   "execution_count": null,
   "metadata": {
    "colab": {
     "base_uri": "https://localhost:8080/"
    },
    "id": "CCE-7QyN63GQ",
    "outputId": "b290d9be-37cc-4902-f48c-a51d6b20983e"
   },
   "outputs": [],
   "source": [
    "from DeepSentiment.Consts import Paths\n",
    "from DeepSentiment.Networks.Transformer.Model import Model as STModel\n",
    "from DeepSentiment.Preprocessing.CleanText import CleanText\n",
    "\n",
    "from sklearn.metrics import confusion_matrix\n",
    "import pandas as pd \n",
    "\n",
    "def getMetrics(result):\n",
    "    tn, fp, fn, tp = result['tn'], result['fp'], result['fn'], result['tp']\n",
    "    \n",
    "    total = tn + fp + fn + tp\n",
    "\n",
    "    Accuracy = (tp+tn) /total\n",
    "    Precision = tp/(tp+fp)\n",
    "    Recall = tp/(tp+fn)\n",
    "    F1 = 2*Recall*Precision/(Recall+Precision)\n",
    "    \n",
    "    return {        \n",
    "        \"Accuracy\" : Accuracy,\n",
    "        \"Precision\" : Precision,\n",
    "        \"Recall\" : Recall,\n",
    "        \"F1\" : F1,\n",
    "        \"tn\" : tn, \n",
    "        \"fp\" : fp, \n",
    "        \"fn\" : fn, \n",
    "        \"tp\" : tp\n",
    "    }\n",
    "\n",
    "\n",
    "def evaluateModel(name, folder, args):\n",
    "    print(\"Args\")\n",
    "    print(args)\n",
    "    splitted = modelName.split(\"_\") #transformer_{model_name}_{entries}_{lr}\n",
    "    \n",
    "    model_name, entries, lr = splitted[1], splitted[2], splitted[3]\n",
    "    model_type = model_name\n",
    "    stModel = STModel(model_type, model_name)    \n",
    "    lModel = stModel.load(modelName=\"model.zip\", folder=folderPath)\n",
    "    stModel.loadData(cleanFN = CleanText().cleanText, args=args)\n",
    "    lModel.args.lazy_loading = args[\"lazy_loading\"]\n",
    "\n",
    "    result, _, _ = stModel.validate(stModel.testData, args=args) #result, model_outputs, wrong_predictions\n",
    "    return getMetrics(result)\n",
    "    \n",
    "def metricCSVRow(metric):\n",
    "    return \";\".join([str(v) for v in metric.values()])\n",
    "\n",
    "def metricHeaderRow(metric):\n",
    "    return \";\".join([k for k in metric.keys()])"
   ]
  },
  {
   "cell_type": "code",
   "execution_count": null,
   "metadata": {
    "id": "V-PF8rCO63GR"
   },
   "outputs": [],
   "source": [
    "import os\n",
    "resultPath = \"/gdrive/MyDrive/test_1\" #todo \"/gdrive/MyDrive/test_3\"\n",
    "transformerModelNames = [(x, os.path.join(resultPath, x)) for x in os.listdir(resultPath) if \"transformer\" in x]"
   ]
  },
  {
   "cell_type": "code",
   "execution_count": null,
   "metadata": {
    "colab": {
     "base_uri": "https://localhost:8080/",
     "height": 337,
     "referenced_widgets": [
      "bcec497b9b3e416b9e1b405981743e4d",
      "53df98dde86b4a7d9c0abc62c95701af",
      "f2842a886d754deca6097c72b4f10ad3",
      "3407cad96e9d43be926b121909556ac0",
      "d0c644d387614b5aa6bc2611267e534c",
      "2cc0f55c2bbb45659fb68947cf2556d9",
      "4503e90cf27a449296f5105320d4369b",
      "a133864217a1476ca9ce382bdfa6cbea",
      "0767789cefc5460e9de48745a27faf6f",
      "1fafc382b89242089cad2c0b43137e57",
      "1d022478118544d88006a83b269c552d",
      "895d3899e03c4b688714a7b8667507e9",
      "42cf9b5b73644b8cb2117cfc87093c35",
      "57bd36fee94b431887fa9f4d27156aab",
      "5c8b0ed772444b5ea7dfd06595f38839",
      "547e16e916f14c2b9619526564c96dbf",
      "06ff51c9e0ba4a369e3ea4a38840262a",
      "459ad18639c8493598b44631e51ab380",
      "63a59e8a21d441f188c4843d9e94350c",
      "e4f88e724cdd4120ae17046171b5b2ec",
      "28af5a20b2a3430ca56339609729b5b7",
      "8971db3108bc475bbf64abdb335e113f",
      "23edf72ec26f40f29dc57ad37f6a55dd",
      "07663120c6844391ba45c233965aaf33",
      "cb5d7ce5674042e3b84fd03158944870",
      "99a6a50d0731493c9c00c98086a26f78",
      "b14e09d50229487e814db89bb0d57500",
      "6aae99e96f3949759e76361712921626",
      "f51017280c2d4a8282d38849e1c0b38c",
      "b6bb586abc8940fb8af5dcf63098917b",
      "508f7e6a57f54938a0bc6cc5e3729384",
      "5df0d38c0b8744bc814a1760646ffee8",
      "b7821d7641134215ab5a41a1338c4f04"
     ]
    },
    "id": "lVxAMbk4o1bX",
    "outputId": "391ba808-8525-431a-875f-e3d9d5ff4c26"
   },
   "outputs": [],
   "source": [
    "#trainArgs\n",
    "validResults = []\n",
    "errors = []\n",
    "__results__= []\n",
    "trainArgs = {\"lazy_loading\": False, \"number_of_training_data_entries\" : None}\n",
    "for modelName, folderPath in transformerModelNames:\n",
    "  try: \n",
    "    results = evaluateModel(name=modelName, folder=folderPath, args=trainArgs)    \n",
    "    csv = \";\".join([modelName, metricCSVRow(results)])\n",
    "    validResults.append(csv)\n",
    "    __results__.append(results)\n",
    "  except Exception as e:\n",
    "    errors.append((modelName, e))"
   ]
  },
  {
   "cell_type": "code",
   "execution_count": null,
   "metadata": {
    "id": "nmUdznR4qcMp"
   },
   "outputs": [],
   "source": [
    "errors"
   ]
  },
  {
   "cell_type": "code",
   "execution_count": null,
   "metadata": {
    "id": "kvZKDNUb63GS"
   },
   "outputs": [],
   "source": [
    "!mkdir -p /content/results/\n",
    "! $errors > /content/results/errors.txt\n",
    "errors"
   ]
  },
  {
   "cell_type": "code",
   "execution_count": null,
   "metadata": {
    "id": "PQMGhj4rEnBo"
   },
   "outputs": [],
   "source": [
    "validResults"
   ]
  },
  {
   "cell_type": "code",
   "execution_count": null,
   "metadata": {
    "id": "TuLXAUcW63GS"
   },
   "outputs": [],
   "source": [
    "! $validResults > /content/results/val_res.txt\n",
    "validResults"
   ]
  },
  {
   "cell_type": "code",
   "execution_count": null,
   "metadata": {
    "id": "cd5Mpz7O63GS"
   },
   "outputs": [],
   "source": [
    "import io  \n",
    "from datetime import datetime\n",
    "\n",
    "metricResult = lambda validResult : \";\".join([str(v) for (k, v) in validResult.items()])\n",
    "metricResultHeader = metricHeaderRow({\"Accuracy\" : \"-\", \"Precision\" : \"-\", \"Recall\" : \"-\", \"F1\" : \"-\", \"tn\" : \"-\",  \"fp\" : \"-\",  \"fn\" : \"-\",  \"tp\" : \"-\"})\n",
    "\n",
    "#csvResults = [\";\".join([validResult[0],validResult[1],\";\".join([])]) for validResult in validResults]\n",
    "header = \";\".join([\"modelName\", metricResultHeader])\n",
    "_results = \"\\n\".join(validResults)\n",
    "\n",
    "combined = header + '\\n' + '\\n'+ '\\n' + _results\n",
    "resultDF = pd.read_csv(  io.StringIO(combined)  , sep=\";\")\n",
    "\n",
    "resultPath = Paths.RESULTS_BASE + \"//result_\" + datetime.now().strftime('%Y-%m-%d_%H-%M-%S')  + \".csv\"\n",
    "resultDF.to_csv(resultPath,encoding=\"utf-8\")"
   ]
  },
  {
   "cell_type": "code",
   "execution_count": null,
   "metadata": {
    "id": "dCWad_gEGfLQ"
   },
   "outputs": [],
   "source": [
    "!cp -r /content/results/ /gdrive/MyDrive/result_1_2_all/"
   ]
  },
  {
   "cell_type": "code",
   "execution_count": null,
   "metadata": {
    "id": "kfAFc9vZNO-3"
   },
   "outputs": [],
   "source": [
    "combined"
   ]
  },
  {
   "cell_type": "code",
   "execution_count": null,
   "metadata": {
    "colab": {
     "base_uri": "https://localhost:8080/"
    },
    "id": "OdsQhrFeZjze",
    "outputId": "54b7e83b-6d03-49f7-9859-0810894ef538"
   },
   "outputs": [],
   "source": [
    "transformerModelNames"
   ]
  },
  {
   "cell_type": "code",
   "execution_count": null,
   "metadata": {
    "id": "deQmFzGP85Sq"
   },
   "outputs": [],
   "source": []
  }
 ],
 "metadata": {
  "accelerator": "GPU",
  "colab": {
   "collapsed_sections": [],
   "name": "wip_validate_torch_models_7.ipynb",
   "provenance": []
  },
  "kernelspec": {
   "display_name": "Python 3",
   "language": "python",
   "name": "python3"
  },
  "language_info": {
   "codemirror_mode": {
    "name": "ipython",
    "version": 3
   },
   "file_extension": ".py",
   "mimetype": "text/x-python",
   "name": "python",
   "nbconvert_exporter": "python",
   "pygments_lexer": "ipython3",
   "version": "3.8.5"
  },
  "widgets": {
   "application/vnd.jupyter.widget-state+json": {
    "06ff51c9e0ba4a369e3ea4a38840262a": {
     "model_module": "@jupyter-widgets/controls",
     "model_name": "DescriptionStyleModel",
     "state": {
      "_model_module": "@jupyter-widgets/controls",
      "_model_module_version": "1.5.0",
      "_model_name": "DescriptionStyleModel",
      "_view_count": null,
      "_view_module": "@jupyter-widgets/base",
      "_view_module_version": "1.2.0",
      "_view_name": "StyleView",
      "description_width": ""
     }
    },
    "07663120c6844391ba45c233965aaf33": {
     "model_module": "@jupyter-widgets/base",
     "model_name": "LayoutModel",
     "state": {
      "_model_module": "@jupyter-widgets/base",
      "_model_module_version": "1.2.0",
      "_model_name": "LayoutModel",
      "_view_count": null,
      "_view_module": "@jupyter-widgets/base",
      "_view_module_version": "1.2.0",
      "_view_name": "LayoutView",
      "align_content": null,
      "align_items": null,
      "align_self": null,
      "border": null,
      "bottom": null,
      "display": null,
      "flex": null,
      "flex_flow": null,
      "grid_area": null,
      "grid_auto_columns": null,
      "grid_auto_flow": null,
      "grid_auto_rows": null,
      "grid_column": null,
      "grid_gap": null,
      "grid_row": null,
      "grid_template_areas": null,
      "grid_template_columns": null,
      "grid_template_rows": null,
      "height": null,
      "justify_content": null,
      "justify_items": null,
      "left": null,
      "margin": null,
      "max_height": null,
      "max_width": null,
      "min_height": null,
      "min_width": null,
      "object_fit": null,
      "object_position": null,
      "order": null,
      "overflow": null,
      "overflow_x": null,
      "overflow_y": null,
      "padding": null,
      "right": null,
      "top": null,
      "visibility": null,
      "width": null
     }
    },
    "0767789cefc5460e9de48745a27faf6f": {
     "model_module": "@jupyter-widgets/base",
     "model_name": "LayoutModel",
     "state": {
      "_model_module": "@jupyter-widgets/base",
      "_model_module_version": "1.2.0",
      "_model_name": "LayoutModel",
      "_view_count": null,
      "_view_module": "@jupyter-widgets/base",
      "_view_module_version": "1.2.0",
      "_view_name": "LayoutView",
      "align_content": null,
      "align_items": null,
      "align_self": null,
      "border": null,
      "bottom": null,
      "display": null,
      "flex": null,
      "flex_flow": null,
      "grid_area": null,
      "grid_auto_columns": null,
      "grid_auto_flow": null,
      "grid_auto_rows": null,
      "grid_column": null,
      "grid_gap": null,
      "grid_row": null,
      "grid_template_areas": null,
      "grid_template_columns": null,
      "grid_template_rows": null,
      "height": null,
      "justify_content": null,
      "justify_items": null,
      "left": null,
      "margin": null,
      "max_height": null,
      "max_width": null,
      "min_height": null,
      "min_width": null,
      "object_fit": null,
      "object_position": null,
      "order": null,
      "overflow": null,
      "overflow_x": null,
      "overflow_y": null,
      "padding": null,
      "right": null,
      "top": null,
      "visibility": null,
      "width": null
     }
    },
    "1d022478118544d88006a83b269c552d": {
     "model_module": "@jupyter-widgets/base",
     "model_name": "LayoutModel",
     "state": {
      "_model_module": "@jupyter-widgets/base",
      "_model_module_version": "1.2.0",
      "_model_name": "LayoutModel",
      "_view_count": null,
      "_view_module": "@jupyter-widgets/base",
      "_view_module_version": "1.2.0",
      "_view_name": "LayoutView",
      "align_content": null,
      "align_items": null,
      "align_self": null,
      "border": null,
      "bottom": null,
      "display": null,
      "flex": null,
      "flex_flow": null,
      "grid_area": null,
      "grid_auto_columns": null,
      "grid_auto_flow": null,
      "grid_auto_rows": null,
      "grid_column": null,
      "grid_gap": null,
      "grid_row": null,
      "grid_template_areas": null,
      "grid_template_columns": null,
      "grid_template_rows": null,
      "height": null,
      "justify_content": null,
      "justify_items": null,
      "left": null,
      "margin": null,
      "max_height": null,
      "max_width": null,
      "min_height": null,
      "min_width": null,
      "object_fit": null,
      "object_position": null,
      "order": null,
      "overflow": null,
      "overflow_x": null,
      "overflow_y": null,
      "padding": null,
      "right": null,
      "top": null,
      "visibility": null,
      "width": null
     }
    },
    "1fafc382b89242089cad2c0b43137e57": {
     "model_module": "@jupyter-widgets/controls",
     "model_name": "DescriptionStyleModel",
     "state": {
      "_model_module": "@jupyter-widgets/controls",
      "_model_module_version": "1.5.0",
      "_model_name": "DescriptionStyleModel",
      "_view_count": null,
      "_view_module": "@jupyter-widgets/base",
      "_view_module_version": "1.2.0",
      "_view_name": "StyleView",
      "description_width": ""
     }
    },
    "23edf72ec26f40f29dc57ad37f6a55dd": {
     "model_module": "@jupyter-widgets/controls",
     "model_name": "HBoxModel",
     "state": {
      "_dom_classes": [],
      "_model_module": "@jupyter-widgets/controls",
      "_model_module_version": "1.5.0",
      "_model_name": "HBoxModel",
      "_view_count": null,
      "_view_module": "@jupyter-widgets/controls",
      "_view_module_version": "1.5.0",
      "_view_name": "HBoxView",
      "box_style": "",
      "children": [
       "IPY_MODEL_cb5d7ce5674042e3b84fd03158944870",
       "IPY_MODEL_99a6a50d0731493c9c00c98086a26f78",
       "IPY_MODEL_b14e09d50229487e814db89bb0d57500"
      ],
      "layout": "IPY_MODEL_07663120c6844391ba45c233965aaf33"
     }
    },
    "28af5a20b2a3430ca56339609729b5b7": {
     "model_module": "@jupyter-widgets/controls",
     "model_name": "DescriptionStyleModel",
     "state": {
      "_model_module": "@jupyter-widgets/controls",
      "_model_module_version": "1.5.0",
      "_model_name": "DescriptionStyleModel",
      "_view_count": null,
      "_view_module": "@jupyter-widgets/base",
      "_view_module_version": "1.2.0",
      "_view_name": "StyleView",
      "description_width": ""
     }
    },
    "2cc0f55c2bbb45659fb68947cf2556d9": {
     "model_module": "@jupyter-widgets/controls",
     "model_name": "DescriptionStyleModel",
     "state": {
      "_model_module": "@jupyter-widgets/controls",
      "_model_module_version": "1.5.0",
      "_model_name": "DescriptionStyleModel",
      "_view_count": null,
      "_view_module": "@jupyter-widgets/base",
      "_view_module_version": "1.2.0",
      "_view_name": "StyleView",
      "description_width": ""
     }
    },
    "3407cad96e9d43be926b121909556ac0": {
     "model_module": "@jupyter-widgets/controls",
     "model_name": "FloatProgressModel",
     "state": {
      "_dom_classes": [],
      "_model_module": "@jupyter-widgets/controls",
      "_model_module_version": "1.5.0",
      "_model_name": "FloatProgressModel",
      "_view_count": null,
      "_view_module": "@jupyter-widgets/controls",
      "_view_module_version": "1.5.0",
      "_view_name": "ProgressView",
      "bar_style": "success",
      "description": "",
      "description_tooltip": null,
      "layout": "IPY_MODEL_0767789cefc5460e9de48745a27faf6f",
      "max": 1598566,
      "min": 0,
      "orientation": "horizontal",
      "style": "IPY_MODEL_a133864217a1476ca9ce382bdfa6cbea",
      "value": 1598566
     }
    },
    "42cf9b5b73644b8cb2117cfc87093c35": {
     "model_module": "@jupyter-widgets/base",
     "model_name": "LayoutModel",
     "state": {
      "_model_module": "@jupyter-widgets/base",
      "_model_module_version": "1.2.0",
      "_model_name": "LayoutModel",
      "_view_count": null,
      "_view_module": "@jupyter-widgets/base",
      "_view_module_version": "1.2.0",
      "_view_name": "LayoutView",
      "align_content": null,
      "align_items": null,
      "align_self": null,
      "border": null,
      "bottom": null,
      "display": null,
      "flex": null,
      "flex_flow": null,
      "grid_area": null,
      "grid_auto_columns": null,
      "grid_auto_flow": null,
      "grid_auto_rows": null,
      "grid_column": null,
      "grid_gap": null,
      "grid_row": null,
      "grid_template_areas": null,
      "grid_template_columns": null,
      "grid_template_rows": null,
      "height": null,
      "justify_content": null,
      "justify_items": null,
      "left": null,
      "margin": null,
      "max_height": null,
      "max_width": null,
      "min_height": null,
      "min_width": null,
      "object_fit": null,
      "object_position": null,
      "order": null,
      "overflow": null,
      "overflow_x": null,
      "overflow_y": null,
      "padding": null,
      "right": null,
      "top": null,
      "visibility": null,
      "width": null
     }
    },
    "4503e90cf27a449296f5105320d4369b": {
     "model_module": "@jupyter-widgets/base",
     "model_name": "LayoutModel",
     "state": {
      "_model_module": "@jupyter-widgets/base",
      "_model_module_version": "1.2.0",
      "_model_name": "LayoutModel",
      "_view_count": null,
      "_view_module": "@jupyter-widgets/base",
      "_view_module_version": "1.2.0",
      "_view_name": "LayoutView",
      "align_content": null,
      "align_items": null,
      "align_self": null,
      "border": null,
      "bottom": null,
      "display": null,
      "flex": null,
      "flex_flow": null,
      "grid_area": null,
      "grid_auto_columns": null,
      "grid_auto_flow": null,
      "grid_auto_rows": null,
      "grid_column": null,
      "grid_gap": null,
      "grid_row": null,
      "grid_template_areas": null,
      "grid_template_columns": null,
      "grid_template_rows": null,
      "height": null,
      "justify_content": null,
      "justify_items": null,
      "left": null,
      "margin": null,
      "max_height": null,
      "max_width": null,
      "min_height": null,
      "min_width": null,
      "object_fit": null,
      "object_position": null,
      "order": null,
      "overflow": null,
      "overflow_x": null,
      "overflow_y": null,
      "padding": null,
      "right": null,
      "top": null,
      "visibility": null,
      "width": null
     }
    },
    "459ad18639c8493598b44631e51ab380": {
     "model_module": "@jupyter-widgets/base",
     "model_name": "LayoutModel",
     "state": {
      "_model_module": "@jupyter-widgets/base",
      "_model_module_version": "1.2.0",
      "_model_name": "LayoutModel",
      "_view_count": null,
      "_view_module": "@jupyter-widgets/base",
      "_view_module_version": "1.2.0",
      "_view_name": "LayoutView",
      "align_content": null,
      "align_items": null,
      "align_self": null,
      "border": null,
      "bottom": null,
      "display": null,
      "flex": null,
      "flex_flow": null,
      "grid_area": null,
      "grid_auto_columns": null,
      "grid_auto_flow": null,
      "grid_auto_rows": null,
      "grid_column": null,
      "grid_gap": null,
      "grid_row": null,
      "grid_template_areas": null,
      "grid_template_columns": null,
      "grid_template_rows": null,
      "height": null,
      "justify_content": null,
      "justify_items": null,
      "left": null,
      "margin": null,
      "max_height": null,
      "max_width": null,
      "min_height": null,
      "min_width": null,
      "object_fit": null,
      "object_position": null,
      "order": null,
      "overflow": null,
      "overflow_x": null,
      "overflow_y": null,
      "padding": null,
      "right": null,
      "top": null,
      "visibility": null,
      "width": null
     }
    },
    "508f7e6a57f54938a0bc6cc5e3729384": {
     "model_module": "@jupyter-widgets/base",
     "model_name": "LayoutModel",
     "state": {
      "_model_module": "@jupyter-widgets/base",
      "_model_module_version": "1.2.0",
      "_model_name": "LayoutModel",
      "_view_count": null,
      "_view_module": "@jupyter-widgets/base",
      "_view_module_version": "1.2.0",
      "_view_name": "LayoutView",
      "align_content": null,
      "align_items": null,
      "align_self": null,
      "border": null,
      "bottom": null,
      "display": null,
      "flex": null,
      "flex_flow": null,
      "grid_area": null,
      "grid_auto_columns": null,
      "grid_auto_flow": null,
      "grid_auto_rows": null,
      "grid_column": null,
      "grid_gap": null,
      "grid_row": null,
      "grid_template_areas": null,
      "grid_template_columns": null,
      "grid_template_rows": null,
      "height": null,
      "justify_content": null,
      "justify_items": null,
      "left": null,
      "margin": null,
      "max_height": null,
      "max_width": null,
      "min_height": null,
      "min_width": null,
      "object_fit": null,
      "object_position": null,
      "order": null,
      "overflow": null,
      "overflow_x": null,
      "overflow_y": null,
      "padding": null,
      "right": null,
      "top": null,
      "visibility": null,
      "width": null
     }
    },
    "53df98dde86b4a7d9c0abc62c95701af": {
     "model_module": "@jupyter-widgets/base",
     "model_name": "LayoutModel",
     "state": {
      "_model_module": "@jupyter-widgets/base",
      "_model_module_version": "1.2.0",
      "_model_name": "LayoutModel",
      "_view_count": null,
      "_view_module": "@jupyter-widgets/base",
      "_view_module_version": "1.2.0",
      "_view_name": "LayoutView",
      "align_content": null,
      "align_items": null,
      "align_self": null,
      "border": null,
      "bottom": null,
      "display": null,
      "flex": null,
      "flex_flow": null,
      "grid_area": null,
      "grid_auto_columns": null,
      "grid_auto_flow": null,
      "grid_auto_rows": null,
      "grid_column": null,
      "grid_gap": null,
      "grid_row": null,
      "grid_template_areas": null,
      "grid_template_columns": null,
      "grid_template_rows": null,
      "height": null,
      "justify_content": null,
      "justify_items": null,
      "left": null,
      "margin": null,
      "max_height": null,
      "max_width": null,
      "min_height": null,
      "min_width": null,
      "object_fit": null,
      "object_position": null,
      "order": null,
      "overflow": null,
      "overflow_x": null,
      "overflow_y": null,
      "padding": null,
      "right": null,
      "top": null,
      "visibility": null,
      "width": null
     }
    },
    "547e16e916f14c2b9619526564c96dbf": {
     "model_module": "@jupyter-widgets/controls",
     "model_name": "HTMLModel",
     "state": {
      "_dom_classes": [],
      "_model_module": "@jupyter-widgets/controls",
      "_model_module_version": "1.5.0",
      "_model_name": "HTMLModel",
      "_view_count": null,
      "_view_module": "@jupyter-widgets/controls",
      "_view_module_version": "1.5.0",
      "_view_name": "HTMLView",
      "description": "",
      "description_tooltip": null,
      "layout": "IPY_MODEL_8971db3108bc475bbf64abdb335e113f",
      "placeholder": "​",
      "style": "IPY_MODEL_28af5a20b2a3430ca56339609729b5b7",
      "value": " 319714/319714 [01:35&lt;00:00, 3373.48it/s]"
     }
    },
    "57bd36fee94b431887fa9f4d27156aab": {
     "model_module": "@jupyter-widgets/controls",
     "model_name": "HTMLModel",
     "state": {
      "_dom_classes": [],
      "_model_module": "@jupyter-widgets/controls",
      "_model_module_version": "1.5.0",
      "_model_name": "HTMLModel",
      "_view_count": null,
      "_view_module": "@jupyter-widgets/controls",
      "_view_module_version": "1.5.0",
      "_view_name": "HTMLView",
      "description": "",
      "description_tooltip": null,
      "layout": "IPY_MODEL_459ad18639c8493598b44631e51ab380",
      "placeholder": "​",
      "style": "IPY_MODEL_06ff51c9e0ba4a369e3ea4a38840262a",
      "value": "100%"
     }
    },
    "5c8b0ed772444b5ea7dfd06595f38839": {
     "model_module": "@jupyter-widgets/controls",
     "model_name": "FloatProgressModel",
     "state": {
      "_dom_classes": [],
      "_model_module": "@jupyter-widgets/controls",
      "_model_module_version": "1.5.0",
      "_model_name": "FloatProgressModel",
      "_view_count": null,
      "_view_module": "@jupyter-widgets/controls",
      "_view_module_version": "1.5.0",
      "_view_name": "ProgressView",
      "bar_style": "success",
      "description": "",
      "description_tooltip": null,
      "layout": "IPY_MODEL_e4f88e724cdd4120ae17046171b5b2ec",
      "max": 319714,
      "min": 0,
      "orientation": "horizontal",
      "style": "IPY_MODEL_63a59e8a21d441f188c4843d9e94350c",
      "value": 319714
     }
    },
    "5df0d38c0b8744bc814a1760646ffee8": {
     "model_module": "@jupyter-widgets/controls",
     "model_name": "DescriptionStyleModel",
     "state": {
      "_model_module": "@jupyter-widgets/controls",
      "_model_module_version": "1.5.0",
      "_model_name": "DescriptionStyleModel",
      "_view_count": null,
      "_view_module": "@jupyter-widgets/base",
      "_view_module_version": "1.2.0",
      "_view_name": "StyleView",
      "description_width": ""
     }
    },
    "63a59e8a21d441f188c4843d9e94350c": {
     "model_module": "@jupyter-widgets/controls",
     "model_name": "ProgressStyleModel",
     "state": {
      "_model_module": "@jupyter-widgets/controls",
      "_model_module_version": "1.5.0",
      "_model_name": "ProgressStyleModel",
      "_view_count": null,
      "_view_module": "@jupyter-widgets/base",
      "_view_module_version": "1.2.0",
      "_view_name": "StyleView",
      "bar_color": null,
      "description_width": ""
     }
    },
    "6aae99e96f3949759e76361712921626": {
     "model_module": "@jupyter-widgets/controls",
     "model_name": "DescriptionStyleModel",
     "state": {
      "_model_module": "@jupyter-widgets/controls",
      "_model_module_version": "1.5.0",
      "_model_name": "DescriptionStyleModel",
      "_view_count": null,
      "_view_module": "@jupyter-widgets/base",
      "_view_module_version": "1.2.0",
      "_view_name": "StyleView",
      "description_width": ""
     }
    },
    "895d3899e03c4b688714a7b8667507e9": {
     "model_module": "@jupyter-widgets/controls",
     "model_name": "HBoxModel",
     "state": {
      "_dom_classes": [],
      "_model_module": "@jupyter-widgets/controls",
      "_model_module_version": "1.5.0",
      "_model_name": "HBoxModel",
      "_view_count": null,
      "_view_module": "@jupyter-widgets/controls",
      "_view_module_version": "1.5.0",
      "_view_name": "HBoxView",
      "box_style": "",
      "children": [
       "IPY_MODEL_57bd36fee94b431887fa9f4d27156aab",
       "IPY_MODEL_5c8b0ed772444b5ea7dfd06595f38839",
       "IPY_MODEL_547e16e916f14c2b9619526564c96dbf"
      ],
      "layout": "IPY_MODEL_42cf9b5b73644b8cb2117cfc87093c35"
     }
    },
    "8971db3108bc475bbf64abdb335e113f": {
     "model_module": "@jupyter-widgets/base",
     "model_name": "LayoutModel",
     "state": {
      "_model_module": "@jupyter-widgets/base",
      "_model_module_version": "1.2.0",
      "_model_name": "LayoutModel",
      "_view_count": null,
      "_view_module": "@jupyter-widgets/base",
      "_view_module_version": "1.2.0",
      "_view_name": "LayoutView",
      "align_content": null,
      "align_items": null,
      "align_self": null,
      "border": null,
      "bottom": null,
      "display": null,
      "flex": null,
      "flex_flow": null,
      "grid_area": null,
      "grid_auto_columns": null,
      "grid_auto_flow": null,
      "grid_auto_rows": null,
      "grid_column": null,
      "grid_gap": null,
      "grid_row": null,
      "grid_template_areas": null,
      "grid_template_columns": null,
      "grid_template_rows": null,
      "height": null,
      "justify_content": null,
      "justify_items": null,
      "left": null,
      "margin": null,
      "max_height": null,
      "max_width": null,
      "min_height": null,
      "min_width": null,
      "object_fit": null,
      "object_position": null,
      "order": null,
      "overflow": null,
      "overflow_x": null,
      "overflow_y": null,
      "padding": null,
      "right": null,
      "top": null,
      "visibility": null,
      "width": null
     }
    },
    "99a6a50d0731493c9c00c98086a26f78": {
     "model_module": "@jupyter-widgets/controls",
     "model_name": "FloatProgressModel",
     "state": {
      "_dom_classes": [],
      "_model_module": "@jupyter-widgets/controls",
      "_model_module_version": "1.5.0",
      "_model_name": "FloatProgressModel",
      "_view_count": null,
      "_view_module": "@jupyter-widgets/controls",
      "_view_module_version": "1.5.0",
      "_view_name": "ProgressView",
      "bar_style": "",
      "description": "",
      "description_tooltip": null,
      "layout": "IPY_MODEL_508f7e6a57f54938a0bc6cc5e3729384",
      "max": 39965,
      "min": 0,
      "orientation": "horizontal",
      "style": "IPY_MODEL_b6bb586abc8940fb8af5dcf63098917b",
      "value": 939
     }
    },
    "a133864217a1476ca9ce382bdfa6cbea": {
     "model_module": "@jupyter-widgets/controls",
     "model_name": "ProgressStyleModel",
     "state": {
      "_model_module": "@jupyter-widgets/controls",
      "_model_module_version": "1.5.0",
      "_model_name": "ProgressStyleModel",
      "_view_count": null,
      "_view_module": "@jupyter-widgets/base",
      "_view_module_version": "1.2.0",
      "_view_name": "StyleView",
      "bar_color": null,
      "description_width": ""
     }
    },
    "b14e09d50229487e814db89bb0d57500": {
     "model_module": "@jupyter-widgets/controls",
     "model_name": "HTMLModel",
     "state": {
      "_dom_classes": [],
      "_model_module": "@jupyter-widgets/controls",
      "_model_module_version": "1.5.0",
      "_model_name": "HTMLModel",
      "_view_count": null,
      "_view_module": "@jupyter-widgets/controls",
      "_view_module_version": "1.5.0",
      "_view_name": "HTMLView",
      "description": "",
      "description_tooltip": null,
      "layout": "IPY_MODEL_b7821d7641134215ab5a41a1338c4f04",
      "placeholder": "​",
      "style": "IPY_MODEL_5df0d38c0b8744bc814a1760646ffee8",
      "value": " 939/39965 [00:18&lt;12:29, 52.04it/s]"
     }
    },
    "b6bb586abc8940fb8af5dcf63098917b": {
     "model_module": "@jupyter-widgets/controls",
     "model_name": "ProgressStyleModel",
     "state": {
      "_model_module": "@jupyter-widgets/controls",
      "_model_module_version": "1.5.0",
      "_model_name": "ProgressStyleModel",
      "_view_count": null,
      "_view_module": "@jupyter-widgets/base",
      "_view_module_version": "1.2.0",
      "_view_name": "StyleView",
      "bar_color": null,
      "description_width": ""
     }
    },
    "b7821d7641134215ab5a41a1338c4f04": {
     "model_module": "@jupyter-widgets/base",
     "model_name": "LayoutModel",
     "state": {
      "_model_module": "@jupyter-widgets/base",
      "_model_module_version": "1.2.0",
      "_model_name": "LayoutModel",
      "_view_count": null,
      "_view_module": "@jupyter-widgets/base",
      "_view_module_version": "1.2.0",
      "_view_name": "LayoutView",
      "align_content": null,
      "align_items": null,
      "align_self": null,
      "border": null,
      "bottom": null,
      "display": null,
      "flex": null,
      "flex_flow": null,
      "grid_area": null,
      "grid_auto_columns": null,
      "grid_auto_flow": null,
      "grid_auto_rows": null,
      "grid_column": null,
      "grid_gap": null,
      "grid_row": null,
      "grid_template_areas": null,
      "grid_template_columns": null,
      "grid_template_rows": null,
      "height": null,
      "justify_content": null,
      "justify_items": null,
      "left": null,
      "margin": null,
      "max_height": null,
      "max_width": null,
      "min_height": null,
      "min_width": null,
      "object_fit": null,
      "object_position": null,
      "order": null,
      "overflow": null,
      "overflow_x": null,
      "overflow_y": null,
      "padding": null,
      "right": null,
      "top": null,
      "visibility": null,
      "width": null
     }
    },
    "bcec497b9b3e416b9e1b405981743e4d": {
     "model_module": "@jupyter-widgets/controls",
     "model_name": "HBoxModel",
     "state": {
      "_dom_classes": [],
      "_model_module": "@jupyter-widgets/controls",
      "_model_module_version": "1.5.0",
      "_model_name": "HBoxModel",
      "_view_count": null,
      "_view_module": "@jupyter-widgets/controls",
      "_view_module_version": "1.5.0",
      "_view_name": "HBoxView",
      "box_style": "",
      "children": [
       "IPY_MODEL_f2842a886d754deca6097c72b4f10ad3",
       "IPY_MODEL_3407cad96e9d43be926b121909556ac0",
       "IPY_MODEL_d0c644d387614b5aa6bc2611267e534c"
      ],
      "layout": "IPY_MODEL_53df98dde86b4a7d9c0abc62c95701af"
     }
    },
    "cb5d7ce5674042e3b84fd03158944870": {
     "model_module": "@jupyter-widgets/controls",
     "model_name": "HTMLModel",
     "state": {
      "_dom_classes": [],
      "_model_module": "@jupyter-widgets/controls",
      "_model_module_version": "1.5.0",
      "_model_name": "HTMLModel",
      "_view_count": null,
      "_view_module": "@jupyter-widgets/controls",
      "_view_module_version": "1.5.0",
      "_view_name": "HTMLView",
      "description": "",
      "description_tooltip": null,
      "layout": "IPY_MODEL_f51017280c2d4a8282d38849e1c0b38c",
      "placeholder": "​",
      "style": "IPY_MODEL_6aae99e96f3949759e76361712921626",
      "value": "Running Evaluation:   2%"
     }
    },
    "d0c644d387614b5aa6bc2611267e534c": {
     "model_module": "@jupyter-widgets/controls",
     "model_name": "HTMLModel",
     "state": {
      "_dom_classes": [],
      "_model_module": "@jupyter-widgets/controls",
      "_model_module_version": "1.5.0",
      "_model_name": "HTMLModel",
      "_view_count": null,
      "_view_module": "@jupyter-widgets/controls",
      "_view_module_version": "1.5.0",
      "_view_name": "HTMLView",
      "description": "",
      "description_tooltip": null,
      "layout": "IPY_MODEL_1d022478118544d88006a83b269c552d",
      "placeholder": "​",
      "style": "IPY_MODEL_1fafc382b89242089cad2c0b43137e57",
      "value": " 1598566/1598566 [00:01&lt;00:00, 834900.75it/s]"
     }
    },
    "e4f88e724cdd4120ae17046171b5b2ec": {
     "model_module": "@jupyter-widgets/base",
     "model_name": "LayoutModel",
     "state": {
      "_model_module": "@jupyter-widgets/base",
      "_model_module_version": "1.2.0",
      "_model_name": "LayoutModel",
      "_view_count": null,
      "_view_module": "@jupyter-widgets/base",
      "_view_module_version": "1.2.0",
      "_view_name": "LayoutView",
      "align_content": null,
      "align_items": null,
      "align_self": null,
      "border": null,
      "bottom": null,
      "display": null,
      "flex": null,
      "flex_flow": null,
      "grid_area": null,
      "grid_auto_columns": null,
      "grid_auto_flow": null,
      "grid_auto_rows": null,
      "grid_column": null,
      "grid_gap": null,
      "grid_row": null,
      "grid_template_areas": null,
      "grid_template_columns": null,
      "grid_template_rows": null,
      "height": null,
      "justify_content": null,
      "justify_items": null,
      "left": null,
      "margin": null,
      "max_height": null,
      "max_width": null,
      "min_height": null,
      "min_width": null,
      "object_fit": null,
      "object_position": null,
      "order": null,
      "overflow": null,
      "overflow_x": null,
      "overflow_y": null,
      "padding": null,
      "right": null,
      "top": null,
      "visibility": null,
      "width": null
     }
    },
    "f2842a886d754deca6097c72b4f10ad3": {
     "model_module": "@jupyter-widgets/controls",
     "model_name": "HTMLModel",
     "state": {
      "_dom_classes": [],
      "_model_module": "@jupyter-widgets/controls",
      "_model_module_version": "1.5.0",
      "_model_name": "HTMLModel",
      "_view_count": null,
      "_view_module": "@jupyter-widgets/controls",
      "_view_module_version": "1.5.0",
      "_view_name": "HTMLView",
      "description": "",
      "description_tooltip": null,
      "layout": "IPY_MODEL_4503e90cf27a449296f5105320d4369b",
      "placeholder": "​",
      "style": "IPY_MODEL_2cc0f55c2bbb45659fb68947cf2556d9",
      "value": "100%"
     }
    },
    "f51017280c2d4a8282d38849e1c0b38c": {
     "model_module": "@jupyter-widgets/base",
     "model_name": "LayoutModel",
     "state": {
      "_model_module": "@jupyter-widgets/base",
      "_model_module_version": "1.2.0",
      "_model_name": "LayoutModel",
      "_view_count": null,
      "_view_module": "@jupyter-widgets/base",
      "_view_module_version": "1.2.0",
      "_view_name": "LayoutView",
      "align_content": null,
      "align_items": null,
      "align_self": null,
      "border": null,
      "bottom": null,
      "display": null,
      "flex": null,
      "flex_flow": null,
      "grid_area": null,
      "grid_auto_columns": null,
      "grid_auto_flow": null,
      "grid_auto_rows": null,
      "grid_column": null,
      "grid_gap": null,
      "grid_row": null,
      "grid_template_areas": null,
      "grid_template_columns": null,
      "grid_template_rows": null,
      "height": null,
      "justify_content": null,
      "justify_items": null,
      "left": null,
      "margin": null,
      "max_height": null,
      "max_width": null,
      "min_height": null,
      "min_width": null,
      "object_fit": null,
      "object_position": null,
      "order": null,
      "overflow": null,
      "overflow_x": null,
      "overflow_y": null,
      "padding": null,
      "right": null,
      "top": null,
      "visibility": null,
      "width": null
     }
    }
   }
  }
 },
 "nbformat": 4,
 "nbformat_minor": 1
}
